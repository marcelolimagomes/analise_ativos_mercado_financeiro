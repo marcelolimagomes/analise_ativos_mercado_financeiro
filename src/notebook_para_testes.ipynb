{
 "cells": [
  {
   "attachments": {},
   "cell_type": "markdown",
   "metadata": {},
   "source": [
    "# Processando dataset "
   ]
  },
  {
   "cell_type": "code",
   "execution_count": 1,
   "metadata": {},
   "outputs": [
    {
     "name": "stdout",
     "output_type": "stream",
     "text": [
      "Path: ['/home/marcelo/des/analise_ativos_mercado_financeiro', '/home/marcelo/des/analise_ativos_mercado_financeiro/src', '/usr/lib64/python311.zip', '/usr/lib64/python3.11', '/usr/lib64/python3.11/lib-dynload', '', '/home/marcelo/des/analise_ativos_mercado_financeiro/.env/lib64/python3.11/site-packages', '/home/marcelo/des/analise_ativos_mercado_financeiro/.env/lib/python3.11/site-packages']\n",
      "Carregando Dataset...\n",
      "Tickers List File: /home/marcelo/des/analise_ativos_mercado_financeiro/src/data/tickers_list_to_analisys.csv\n",
      "<class 'pandas.core.frame.DataFrame'>\n",
      "DatetimeIndex: 200528 entries, 2020-11-13 to 2023-06-23\n",
      "Data columns (total 15 columns):\n",
      " #   Column         Non-Null Count   Dtype         \n",
      "---  ------         --------------   -----         \n",
      " 0   open           200528 non-null  float64       \n",
      " 1   high           200528 non-null  float64       \n",
      " 2   low            200528 non-null  float64       \n",
      " 3   close          200528 non-null  float64       \n",
      " 4   adj_close      200528 non-null  float64       \n",
      " 5   volume         200528 non-null  int64         \n",
      " 6   symbol         200528 non-null  object        \n",
      " 7   date_time      200528 non-null  datetime64[ns]\n",
      " 8   date_import    200528 non-null  datetime64[ns]\n",
      " 9   ema_200p       183016 non-null  float64       \n",
      " 10  ema_200p_diff  183016 non-null  float64       \n",
      " 11  rsi            199155 non-null  float64       \n",
      " 12  change         0 non-null       float64       \n",
      " 13  gain           0 non-null       float64       \n",
      " 14  loss           0 non-null       float64       \n",
      "dtypes: datetime64[ns](2), float64(11), int64(1), object(1)\n",
      "memory usage: 24.5+ MB\n",
      "None\n",
      "Iniciando Calculo RSI e EMAs...\n",
      "Tickers List File: /home/marcelo/des/analise_ativos_mercado_financeiro/src/data/tickers_list_to_analisys.csv\n",
      "No records on informed period of times> 200\n",
      "Erro no calculo do RSI>  Series([], Name: symbol, dtype: object)  - Data:  Series([], Name: date_time, dtype: datetime64[ns])\n",
      "index 14 is out of bounds for axis 0 with size 0\n"
     ]
    },
    {
     "name": "stderr",
     "output_type": "stream",
     "text": [
      "/home/marcelo/des/analise_ativos_mercado_financeiro/src/calcEMA.py:123: RuntimeWarning: Mean of empty slice.\n",
      "  a[n] = x[1:n+1].mean()\n",
      "/home/marcelo/des/analise_ativos_mercado_financeiro/.env/lib64/python3.11/site-packages/numpy/core/_methods.py:129: RuntimeWarning: invalid value encountered in scalar divide\n",
      "  ret = ret.dtype.type(ret / rcount)\n"
     ]
    },
    {
     "name": "stdout",
     "output_type": "stream",
     "text": [
      "Lista ordenada por *Ações com Desconto*: 2023-06-23 00:00:00\n",
      "                 open       high        low  close  adj_close    volume  \\\n",
      "date                                                                      \n",
      "2023-06-23   1.160000   1.180000   1.150000   1.17       1.17   8008200   \n",
      "2023-06-23   8.450000   8.450000   8.020000   8.08       8.08   3235000   \n",
      "2023-06-23   3.600000   3.940000   3.510000   3.79       3.79  42891700   \n",
      "2023-06-23  10.450000  10.460000  10.190000  10.29      10.29   4868100   \n",
      "2023-06-23   4.670000   5.020000   4.650000   4.85       4.85   4508800   \n",
      "...               ...        ...        ...    ...        ...       ...   \n",
      "2023-06-23  31.200001  31.280001  29.889999  30.16      30.16  76023400   \n",
      "2023-06-23  12.060000  12.270000  11.780000  12.12      12.12  13490400   \n",
      "2023-06-23   9.140000   9.220000   9.000000   9.08       9.08   2751500   \n",
      "2023-06-23  21.200001  21.510000  20.680000  21.24      21.24  11335300   \n",
      "2023-06-23  19.540001  19.690001  17.920000  18.43      18.43  11726100   \n",
      "\n",
      "              symbol  date_time                   date_import   ema_200p  \\\n",
      "date                                                                       \n",
      "2023-06-23  AMER3.SA 2023-06-23 1970-01-01 00:00:01.687707212   6.606324   \n",
      "2023-06-23  CASH3.SA 2023-06-23 1970-01-01 00:00:01.687707212  11.589661   \n",
      "2023-06-23  CVCB3.SA 2023-06-23 1970-01-01 00:00:01.687707212   5.003302   \n",
      "2023-06-23  ALPA4.SA 2023-06-23 1970-01-01 00:00:01.687707212  13.430518   \n",
      "2023-06-23  QUAL3.SA 2023-06-23 1970-01-01 00:00:01.687707212   6.237082   \n",
      "...              ...        ...                           ...        ...   \n",
      "2023-06-23  PETR4.SA 2023-06-23 1970-01-01 00:00:01.687707212  22.241367   \n",
      "2023-06-23  GOLL4.SA 2023-06-23 1970-01-01 00:00:01.687707212   8.748194   \n",
      "2023-06-23  BPAN4.SA 2023-06-23 1970-01-01 00:00:01.687707212   6.448834   \n",
      "2023-06-23  AZUL4.SA 2023-06-23 1970-01-01 00:00:01.687707212  14.550438   \n",
      "2023-06-23  YDUQ3.SA 2023-06-23 1970-01-01 00:00:01.687707212  12.118755   \n",
      "\n",
      "            ema_200p_diff        rsi  \n",
      "date                                  \n",
      "2023-06-23         -82.29  53.743206  \n",
      "2023-06-23         -30.28  34.872140  \n",
      "2023-06-23         -24.25  50.200513  \n",
      "2023-06-23         -23.38  49.090881  \n",
      "2023-06-23         -22.24  54.651892  \n",
      "...                   ...        ...  \n",
      "2023-06-23          35.60  66.534895  \n",
      "2023-06-23          38.54  79.266579  \n",
      "2023-06-23          40.80  82.244374  \n",
      "2023-06-23          45.97  71.501638  \n",
      "2023-06-23          52.08  65.144231  \n",
      "\n",
      "[88 rows x 12 columns]\n"
     ]
    }
   ],
   "source": [
    "import tickers_analisys as ta\n",
    "\n",
    "dataset = ta.process()"
   ]
  },
  {
   "cell_type": "code",
   "execution_count": 3,
   "metadata": {},
   "outputs": [],
   "source": [
    "dataset.to_csv('teste.csv', sep=';')"
   ]
  }
 ],
 "metadata": {
  "kernelspec": {
   "display_name": "Python 3",
   "language": "python",
   "name": "python3"
  },
  "language_info": {
   "codemirror_mode": {
    "name": "ipython",
    "version": 3
   },
   "file_extension": ".py",
   "mimetype": "text/x-python",
   "name": "python",
   "nbconvert_exporter": "python",
   "pygments_lexer": "ipython3",
   "version": "3.11.3"
  },
  "orig_nbformat": 4
 },
 "nbformat": 4,
 "nbformat_minor": 2
}
