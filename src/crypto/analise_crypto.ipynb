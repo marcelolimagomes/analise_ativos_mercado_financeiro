{
 "cells": [
  {
   "cell_type": "markdown",
   "metadata": {},
   "source": [
    "<code>\n",
    "Model\tMAE\tMSE\tRMSE\tR2\tRMSLE\tMAPE\tTT (Sec)\n",
    "<br>huber\tHuber Regressor\t176.5214\t87177.3210\t295.2018\t0.9995\t0.0076\t0.0048\t0.2767\n",
    "<br>omp\tOrthogonal Matching Pursuit\t176.8994\t87074.0508\t295.0281\t0.9995\t0.0076\t0.0048\t0.2200\n",
    "<br>llar\tLasso Least Angle Regression\t176.9285\t87099.6957\t295.0704\t0.9995\t0.0076\t0.0048\t0.2167\n",
    "<br>lasso\tLasso Regression\t176.9336\t87099.0767\t295.0690\t0.9995\t0.0076\t0.0048\t0.3600\n",
    "<br>lr\tLinear Regression\t176.9777\t87128.9787\t295.1192\t0.9995\t0.0076\t0.0048\t0.3633\n",
    "<br>lar\tLeast Angle Regression\t176.9777\t87128.9787\t295.1192\t0.9995\t0.0076\t0.0048\t0.4300\n",
    "<br>br\tBayesian Ridge\t176.9778\t87128.8999\t295.1190\t0.9995\t0.0076\t0.0048\t0.2533\n",
    "<br>ridge\tRidge Regression\t177.0186\t87108.0300\t295.0839\t0.9995\t0.0076\t0.0048\t0.3833\n",
    "<br>par\tPassive Aggressive Regressor\t177.6973\t87356.2870\t295.5045\t0.9995\t0.0076\t0.0048\t0.2000\n",
    "<br>lightgbm\tLight Gradient Boosting Machine\t195.5358\t99140.7557\t314.6561\t0.9995\t0.0081\t0.0053\t0.9300\n",
    "<br>rf\tRandom Forest Regressor\t199.4361\t101335.1889\t318.2649\t0.9994\t0.0083\t0.0054\t5.1033\n",
    "<br>gbr\tGradient Boosting Regressor\t201.3509\t99449.4057\t315.2657\t0.9995\t0.0083\t0.0056\t1.7800\n",
    "<br>et\tExtra Trees Regressor\t201.5587\t105765.2161\t325.1893\t0.9994\t0.0084\t0.0054\t2.1867\n",
    "<br>xgboost\tExtreme Gradient Boosting\t210.7075\t108984.0729\t329.9108\t0.9994\t0.0086\t0.0058\t1.3700\n",
    "<br>dt\tDecision Tree Regressor\t263.7993\t175515.6021\t418.9104\t0.9990\t0.0109\t0.0072\t0.2100\n",
    "<br>catboost\tCatBoost Regressor\t364.3085\t253714.2094\t503.3081\t0.9986\t0.0134\t0.0103\t17.0400\n",
    "<br>ada\tAdaBoost Regressor\t615.4694\t637822.1677\t798.6293\t0.9965\t0.0349\t0.0231\t0.8600\n",
    "<br>knn\tK Neighbors Regressor\t772.0608\t1201267.8542\t1074.7690\t0.9934\t0.0333\t0.0234\t0.2367\n",
    "<br>en\tElastic Net\t3640.4392\t18414889.5698\t4291.1610\t0.8990\t0.1410\t0.1205\t0.3700\n",
    "<br>dummy\tDummy Regressor\t11623.2256\t182392298.6667\t13505.1523\t-0.0005\t0.4012\t0.3887\t0.2167\n",
    "</code>"
   ]
  },
  {
   "cell_type": "code",
   "execution_count": null,
   "metadata": {},
   "outputs": [],
   "source": [
    "import sys\n",
    "sys.path.insert(0, sys.path[0].removesuffix('/src/crypto'))\n",
    "print(sys.path)"
   ]
  },
  {
   "cell_type": "code",
   "execution_count": null,
   "metadata": {},
   "outputs": [],
   "source": [
    "import pandas as pd\n",
    "from pycaret.regression import *\n",
    "from src.utils import *\n",
    "from src.calcEMA import calc_RSI"
   ]
  },
  {
   "cell_type": "code",
   "execution_count": null,
   "metadata": {},
   "outputs": [],
   "source": [
    "# Variables\n",
    "datadir = './data'\n",
    "label = 'close'"
   ]
  },
  {
   "cell_type": "markdown",
   "metadata": {},
   "source": [
    "### Metadata\n",
    "\n",
    "<code>\n",
    "Field Name - Description</br>\n",
    "open_time - Kline Open time in unix time format</br>\n",
    "open - Open Price</br>\n",
    "high - High Price</br>\n",
    "low\t- Low Price</br>\n",
    "close\t- Close Price</br>\n",
    "volume - Volume</br>\n",
    "close_time - Kline Close time in unix time format</br>\n",
    "quote_volume - Quote Asset Volume</br>\n",
    "count\t- Number of Trades</br>\n",
    "taker_buy_volume - Taker buy base asset volume during this period</br>\n",
    "taker_buy_quote_volume - Taker buy quote asset volume during this period</br>\n",
    "ignore - Ignore</br>\n",
    "</code>"
   ]
  },
  {
   "cell_type": "code",
   "execution_count": null,
   "metadata": {},
   "outputs": [],
   "source": [
    "print(use_cols)\n",
    "data = read_data(datadir)\n",
    "data.head()"
   ]
  },
  {
   "cell_type": "code",
   "execution_count": null,
   "metadata": {},
   "outputs": [],
   "source": [
    "data = calc_RSI(data, label)\n",
    "data.dropna(inplace=True)\n",
    "print(data.info())\n",
    "data.head()"
   ]
  },
  {
   "cell_type": "code",
   "execution_count": null,
   "metadata": {},
   "outputs": [],
   "source": [
    "data.tail(1)"
   ]
  },
  {
   "cell_type": "code",
   "execution_count": null,
   "metadata": {},
   "outputs": [],
   "source": [
    "df_predict = forecast(data, 48, fold=10)\n",
    "df_predict.columns = df_predict.columns + '_p'"
   ]
  },
  {
   "cell_type": "code",
   "execution_count": null,
   "metadata": {},
   "outputs": [],
   "source": [
    "df_predict"
   ]
  },
  {
   "cell_type": "code",
   "execution_count": null,
   "metadata": {},
   "outputs": [],
   "source": [
    "test_dir = './test'\n",
    "test_data = read_data(test_dir)\n",
    "#test_data = calc_RSI(test_data, label)\n",
    "test_data.dropna(inplace=True)\n",
    "\n",
    "print(test_data.info())\n",
    "test_data"
   ]
  },
  {
   "cell_type": "code",
   "execution_count": null,
   "metadata": {},
   "outputs": [],
   "source": [
    "import plotly.express as px\n",
    "\n",
    "start_date = df_predict[\"open_time_p\"].min()#strftime(\"%Y-%m-%d\")\n",
    "end_date = df_predict[\"open_time_p\"].max()#.strftime(\"%Y-%m-%d\")\n",
    "#now = datetime.now().strftime(\"%Y-%m-%d\")\n",
    "\n",
    "df_predict.index = df_predict['open_time_p']\n",
    "test_data.index = test_data['open_time']\n",
    "\n",
    "filtered_data = test_data.loc[(test_data['open_time'] >= start_date) & (test_data['open_time'] <= end_date)]\n",
    "filtered_data = pd.concat([filtered_data, df_predict], axis=1)\n",
    "filtered_data.drop(columns=['open_time', 'open_time_p'], inplace=True)\n",
    "filtered_data.round(2)\n",
    "\n",
    "fig1 = px.line(\n",
    "    filtered_data, x=filtered_data.index, y=['close', 'close_p'], template = 'plotly_dark', \n",
    "    range_x=[start_date, end_date])\n",
    "fig1.show()"
   ]
  }
 ],
 "metadata": {
  "kernelspec": {
   "display_name": "conda_env3.10",
   "language": "python",
   "name": "python3"
  },
  "language_info": {
   "codemirror_mode": {
    "name": "ipython",
    "version": 3
   },
   "file_extension": ".py",
   "mimetype": "text/x-python",
   "name": "python",
   "nbconvert_exporter": "python",
   "pygments_lexer": "ipython3",
   "version": "3.10.12"
  },
  "orig_nbformat": 4
 },
 "nbformat": 4,
 "nbformat_minor": 2
}
