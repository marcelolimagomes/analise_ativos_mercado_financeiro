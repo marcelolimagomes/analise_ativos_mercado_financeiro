{
 "cells": [
  {
   "cell_type": "code",
   "execution_count": null,
   "metadata": {},
   "outputs": [],
   "source": [
    "%pip install pandas\n",
    "%pip install yfinance\n"
   ]
  },
  {
   "attachments": {},
   "cell_type": "markdown",
   "metadata": {},
   "source": [
    "# Importar biblioteca pandas\n",
    "1. Baixar base de históricos\n",
    "2. Calcular todos os MAs\n",
    "3. Calcular o ranqueamento\n",
    "4. Mostrar resultado do ranqueamento"
   ]
  },
  {
   "cell_type": "code",
   "execution_count": null,
   "metadata": {},
   "outputs": [],
   "source": [
    "import pandas as pd\n",
    "import json\n",
    "import yfinance as yf\n",
    "import datetime\n",
    "import pytz\n"
   ]
  },
  {
   "attachments": {},
   "cell_type": "markdown",
   "metadata": {},
   "source": [
    "# Contém a lista de todas os simbolos da B3, obtidos do Yahoo finance via scrapping"
   ]
  },
  {
   "cell_type": "code",
   "execution_count": null,
   "metadata": {},
   "outputs": [],
   "source": [
    "symbols_file = \"data/symbols.json\"\n",
    "symbols_df = pd.read_json(symbols_file, orient='records')\n",
    "symbols_df.head()\n"
   ]
  },
  {
   "cell_type": "code",
   "execution_count": null,
   "metadata": {},
   "outputs": [],
   "source": [
    "symbols_df.shape[0]\n"
   ]
  },
  {
   "attachments": {},
   "cell_type": "markdown",
   "metadata": {},
   "source": [
    "# Gera dataframe, com fechamento diário, dos últimos 5 anos"
   ]
  },
  {
   "cell_type": "code",
   "execution_count": null,
   "metadata": {},
   "outputs": [],
   "source": [
    "from calcEMA import run_calc_emas\n",
    "dict_symbols = symbols_df.to_dict(orient='records')\n",
    "list_historico = pd.DataFrame()\n",
    "i = 0\n",
    "\n",
    "for symbol in dict_symbols:\n",
    "    print(symbol)\n",
    "\n",
    "    # Baixa histórico de cotações dos últimos 5 anos do simbolo passado por parâmetro \n",
    "    hist = yf.download(\n",
    "        tickers=symbol['symbol'],\n",
    "        period=\"5y\",\n",
    "        interval=\"1d\",\n",
    "        auto_adjust=False,\n",
    "        progress=False)\n",
    "    hist['symbol'] = symbol['symbol']\n",
    "\n",
    "    # Calcular o EMA + RSI de cada simbolo baixado no passo anterior\n",
    "    hist = run_calc_emas(hist)\n",
    "    hist = hist.last('1D')\n",
    "    # Acumula na variável list_histórico os calculos de EMA + RSI do último dia de cotação\n",
    "    list_historico = pd.concat([list_historico,  hist], axis=0)\n",
    "\n",
    "    # Limitador de simbolos  à serem baixados.\n",
    "    i += 1\n",
    "    if i > 5:\n",
    "        break\n"
   ]
  },
  {
   "cell_type": "code",
   "execution_count": null,
   "metadata": {},
   "outputs": [],
   "source": [
    "list_historico"
   ]
  },
  {
   "cell_type": "code",
   "execution_count": null,
   "metadata": {},
   "outputs": [],
   "source": [
    "tickers = pd.read_csv('./data/tickers_list_to_analisys.csv')\n",
    "print(tickers.head())\n",
    "tickers['symbol'] += '.SA'\n",
    "tickers"
   ]
  },
  {
   "cell_type": "code",
   "execution_count": null,
   "metadata": {},
   "outputs": [],
   "source": [
    "data = yf.download(list(tickers['symbol']), start='2023-01-01', threads=20, group_by='ticker' )\n",
    "data"
   ]
  },
  {
   "cell_type": "code",
   "execution_count": null,
   "metadata": {},
   "outputs": [],
   "source": [
    "symbols = []\n",
    "for symbol, _ in data.columns:\n",
    "    symbols.append(symbol)\n",
    "symbols = list(set(symbols))\n",
    "\n",
    "new_df = pd.DataFrame()\n",
    "for s in symbols:\n",
    "    aux = data[s].copy()\n",
    "    aux['symbol'] = s\n",
    "    new_df = pd.concat([new_df, aux], axis=0)\n",
    "\n",
    "new_df.rename(columns={'Adj Close': 'adj_close', 'Close': 'close', 'High': 'high',\n",
    "                'Low': 'low', 'Open': 'open', 'Close': 'close', 'Volume': 'volume'}, inplace=True)\n",
    "new_df.index.name = 'date'\n",
    "new_df['date_time'] = pd.to_datetime(new_df.index)\n",
    "new_df['s_datetime'] = new_df.index.strftime('%Y%m%d%H%M')\n",
    "new_df['date_import'] = datetime.datetime.now(tz=pytz.UTC)\n",
    "\n",
    "new_df"
   ]
  },
  {
   "cell_type": "code",
   "execution_count": null,
   "metadata": {},
   "outputs": [],
   "source": [
    "new_df.to_json(\n",
    "        './data/ibov.json',\n",
    "        orient='records',\n",
    "        date_unit='s', date_format='epoch')"
   ]
  }
 ],
 "metadata": {
  "kernelspec": {
   "display_name": "Python 3",
   "language": "python",
   "name": "python3"
  },
  "language_info": {
   "codemirror_mode": {
    "name": "ipython",
    "version": 3
   },
   "file_extension": ".py",
   "mimetype": "text/x-python",
   "name": "python",
   "nbconvert_exporter": "python",
   "pygments_lexer": "ipython3",
   "version": "3.11.3"
  },
  "orig_nbformat": 4
 },
 "nbformat": 4,
 "nbformat_minor": 2
}
